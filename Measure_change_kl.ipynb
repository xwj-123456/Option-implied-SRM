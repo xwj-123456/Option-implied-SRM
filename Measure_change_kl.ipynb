{
 "cells": [
  {
   "cell_type": "code",
   "execution_count": null,
   "id": "b2f1da21",
   "metadata": {},
   "outputs": [],
   "source": [
    "import numpy as np\n",
    "import pandas as pd\n"
   ]
  },
  {
   "cell_type": "code",
   "execution_count": null,
   "id": "6bfa4659",
   "metadata": {},
   "outputs": [],
   "source": [
    "def log_likelihood(params, Y):\n",
    "    \n",
    "    k,l = params\n",
    "    N = len(Y)\n",
    "    \n",
    "    if k <= 0 or l <= 0:\n",
    "        return np.inf\n",
    "    \n",
    "    log_p = (k-1)*np.log(Y) + (l-1)*np.log(1-Y) - np.log(beta(k, l))# + np.log(y)\n",
    "    return -np.sum(log_p)  \n",
    "\n",
    "\n",
    "def estimate_beta_params(Y, initial_guess=[1.33,1.12]):\n",
    "    \n",
    "    Y = np.clip(Y, 1e-10, 1-1e-10)\n",
    "    \n",
    "    bounds = [(1e-10, 10),(1e-10, 10)]  \n",
    "    result = minimize(log_likelihood, \n",
    "                     x0=initial_guess, \n",
    "                     args=(Y),\n",
    "                     bounds=bounds,\n",
    "                     method='L-BFGS-B')  \n",
    "    \n",
    "    \n",
    "    if result.success:\n",
    "        return result.x\n",
    "    else:\n",
    "        raise ValueError(f\"Optimization failed: {result.message}\")"
   ]
  },
  {
   "cell_type": "code",
   "execution_count": null,
   "id": "d6858464",
   "metadata": {},
   "outputs": [],
   "source": []
  }
 ],
 "metadata": {
  "kernelspec": {
   "display_name": "Python 3 (ipykernel)",
   "language": "python",
   "name": "python3"
  },
  "language_info": {
   "codemirror_mode": {
    "name": "ipython",
    "version": 3
   },
   "file_extension": ".py",
   "mimetype": "text/x-python",
   "name": "python",
   "nbconvert_exporter": "python",
   "pygments_lexer": "ipython3",
   "version": "3.11.5"
  }
 },
 "nbformat": 4,
 "nbformat_minor": 5
}
